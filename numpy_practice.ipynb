{
 "cells": [
  {
   "cell_type": "markdown",
   "metadata": {},
   "source": [
    "# NUMPY"
   ]
  },
  {
   "cell_type": "markdown",
   "metadata": {},
   "source": [
    "Numpy is a python module that is used for scientfic computing and is 50x times faster than Lists.\n",
    "\n",
    "NumPy stands for numerical python.\n",
    "\n",
    "Numpy contains high-dimensional array objects,tools for dealing whit array objects.\n",
    "\n",
    "It also helps in dealing with linear algebra,fourier transform and has random number capabilities.\n",
    "\n",
    "Numpy aims to provide an array object called as ndarray.\n",
    "\n",
    "These arayrs are stored at continuous place in memory unlike list,this behaviour is called locality of reference.\n",
    "\n",
    "Numpy can also be treated as container for generic data.\n",
    "\n",
    "Numpy is partially written in python,and partialy in C and C++ for faster computation.\n",
    "\n",
    "Numpy only deals with numerical values."
   ]
  },
  {
   "cell_type": "code",
   "execution_count": 14,
   "metadata": {},
   "outputs": [],
   "source": [
    "#installing numpy-in ditstribution like Annaconda and spyder it is already available.\n",
    "\n",
    "pip install numpy"
   ]
  },
  {
   "cell_type": "code",
   "execution_count": null,
   "metadata": {},
   "outputs": [],
   "source": [
    "#to check for version\n",
    "print(np.__version__)"
   ]
  },
  {
   "cell_type": "code",
   "execution_count": 27,
   "metadata": {},
   "outputs": [],
   "source": [
    "#importing numpy\n",
    "import numpy as np  #np is an alias name commonly used for numpy\n"
   ]
  },
  {
   "cell_type": "markdown",
   "metadata": {},
   "source": [
    "Advantages of numpy over list: \n",
    "    \n",
    "    1.Occupies less memory\n",
    "    \n",
    "    2.Fast\n",
    "    \n",
    "    3.Convinient"
   ]
  },
  {
   "cell_type": "code",
   "execution_count": 33,
   "metadata": {},
   "outputs": [
    {
     "name": "stdout",
     "output_type": "stream",
     "text": [
      "List m/m:  48000\n",
      "Numpy object m/m:  4000\n"
     ]
    }
   ],
   "source": [
    "#code that shows numpy occupies less m/m space thean lists\n",
    "import numpy as np\n",
    "import time\n",
    "import sys\n",
    "S=range(1000)\n",
    "print(\"List m/m: \",sys.getsizeof(S)*len(S))\n",
    "\n",
    "D=np.arange(1000)\n",
    "print(\"Numpy object m/m: \",D.size*D.itemsize)\n",
    "\n",
    "#following result shows the space occupied"
   ]
  },
  {
   "cell_type": "code",
   "execution_count": 36,
   "metadata": {},
   "outputs": [
    {
     "name": "stdout",
     "output_type": "stream",
     "text": [
      "Lists:  1.0123252868652344\n",
      "Numpy array:  0.0\n"
     ]
    }
   ],
   "source": [
    "#code that shows how numpy is faster than lists\n",
    "import numpy as np\n",
    "import time\n",
    "import sys\n",
    "SIZE=1000\n",
    "\n",
    "#two lists are defined\n",
    "L1=range(SIZE)\n",
    "L2=range(SIZE)\n",
    "\n",
    "#two numpy arrays\n",
    "A1=np.arange(SIZE)\n",
    "A2=np.arange(SIZE)\n",
    "\n",
    "start=time.time()\n",
    "result=[(x,y) for x,y in zip(L1,L2)] #sums corresponding element\n",
    "print(\"Lists: \",(time.time()-start)*1000) #converting into milliseconds\n",
    "\n",
    "start=time.time()\n",
    "result=A1+A2 #numpy array elements are automatically corespondedly added\n",
    "print(\"Numpy array: \",(time.time()-start)*1000) "
   ]
  },
  {
   "cell_type": "markdown",
   "metadata": {},
   "source": [
    "NUMPY OPERATIONS"
   ]
  },
  {
   "cell_type": "code",
   "execution_count": 11,
   "metadata": {},
   "outputs": [
    {
     "name": "stdout",
     "output_type": "stream",
     "text": [
      "[1 2 3]\n"
     ]
    }
   ],
   "source": [
    "#creating an array\n",
    "\n",
    "#array() function a ndarray object array-- we can pass list as well as tuple in array() function\n",
    "ar1=np.array([1,2,3]) \n",
    "print(ar1)"
   ]
  },
  {
   "cell_type": "code",
   "execution_count": 22,
   "metadata": {},
   "outputs": [
    {
     "name": "stdout",
     "output_type": "stream",
     "text": [
      "[[1 2 3]\n",
      " [4 5 6]]\n"
     ]
    }
   ],
   "source": [
    "#for creating 2D-dimensional array here we are using tuples\n",
    "ar2=np.array(((1,2,3),(4,5,6)))\n",
    "print(ar2)"
   ]
  },
  {
   "cell_type": "code",
   "execution_count": 43,
   "metadata": {},
   "outputs": [
    {
     "name": "stdout",
     "output_type": "stream",
     "text": [
      "[[1 2 3]\n",
      " [4 5 6]\n",
      " [7 8 9]]\n"
     ]
    }
   ],
   "source": [
    "#for creating 2D-dimensional array here we are using lists\n",
    "ar3=np.array([[1,2,3],[4,5,6],[7,8,9]])\n",
    "print(ar3)"
   ]
  },
  {
   "cell_type": "code",
   "execution_count": 54,
   "metadata": {},
   "outputs": [
    {
     "name": "stdout",
     "output_type": "stream",
     "text": [
      "[[[ 1  2  3]\n",
      "  [ 4  5  6]]\n",
      "\n",
      " [[ 7  8  9]\n",
      "  [10 11 12]]]\n"
     ]
    }
   ],
   "source": [
    "#creating a 3D array: \n",
    "ar4=np.array([[[1,2,3],[4,5,6]],[[7,8,9],[10,11,12]]])\n",
    "print(ar4)"
   ]
  },
  {
   "cell_type": "code",
   "execution_count": 66,
   "metadata": {},
   "outputs": [],
   "source": [
    "#creating a high dimensional numpy array\n",
    "ar5= np.array([1, 2, 3, 4], ndmin=5)\n",
    "#here 5-D we can put different value"
   ]
  },
  {
   "cell_type": "code",
   "execution_count": 67,
   "metadata": {},
   "outputs": [
    {
     "name": "stdout",
     "output_type": "stream",
     "text": [
      "<class 'numpy.ndarray'>\n",
      "<class 'numpy.ndarray'>\n",
      "<class 'numpy.ndarray'>\n"
     ]
    }
   ],
   "source": [
    "print(type(ar1))\n",
    "print(type(ar2))\n",
    "print(type(ar3))"
   ]
  },
  {
   "cell_type": "code",
   "execution_count": 68,
   "metadata": {},
   "outputs": [
    {
     "name": "stdout",
     "output_type": "stream",
     "text": [
      "1\n",
      "2\n",
      "2\n",
      "3\n"
     ]
    }
   ],
   "source": [
    "#to check the dimension of numpy array: \n",
    "print(ar1.ndim)\n",
    "print(ar2.ndim)\n",
    "print(ar3.ndim)\n",
    "print(ar4.ndim)"
   ]
  },
  {
   "cell_type": "code",
   "execution_count": 69,
   "metadata": {},
   "outputs": [
    {
     "name": "stdout",
     "output_type": "stream",
     "text": [
      "4\n"
     ]
    }
   ],
   "source": [
    "#to check sie of each element present in numpy array: \n",
    "print(ar1.itemsize)"
   ]
  },
  {
   "cell_type": "code",
   "execution_count": 70,
   "metadata": {},
   "outputs": [
    {
     "name": "stdout",
     "output_type": "stream",
     "text": [
      "int32\n",
      "int32\n"
     ]
    }
   ],
   "source": [
    "#to check datatype of elements inside numpy array: \n",
    "print(ar2.dtype)\n",
    "print(ar4.dtype)"
   ]
  },
  {
   "cell_type": "code",
   "execution_count": 71,
   "metadata": {},
   "outputs": [
    {
     "name": "stdout",
     "output_type": "stream",
     "text": [
      "3\n",
      "6\n",
      "9\n",
      "12\n"
     ]
    }
   ],
   "source": [
    "#to check the size of the array(total number of elements)\n",
    "print(ar1.size)\n",
    "print(ar2.size)\n",
    "print(ar3.size)\n",
    "print(ar4.size)"
   ]
  },
  {
   "cell_type": "code",
   "execution_count": 72,
   "metadata": {},
   "outputs": [
    {
     "name": "stdout",
     "output_type": "stream",
     "text": [
      "(3,)\n",
      "(2, 3)\n",
      "(3, 3)\n",
      "(2, 2, 3)\n"
     ]
    }
   ],
   "source": [
    "#to check shape of the numpy array: \n",
    "print(ar1.shape)\n",
    "print(ar2.shape)\n",
    "print(ar3.shape)\n",
    "print(ar4.shape)"
   ]
  },
  {
   "cell_type": "code",
   "execution_count": 73,
   "metadata": {},
   "outputs": [
    {
     "name": "stdout",
     "output_type": "stream",
     "text": [
      "(1, 1, 1, 1, 4)\n",
      "5\n"
     ]
    }
   ],
   "source": [
    "#properties of 5D array:\n",
    "print(ar5.shape)\n",
    "print(ar5.ndim)"
   ]
  },
  {
   "cell_type": "code",
   "execution_count": 79,
   "metadata": {},
   "outputs": [
    {
     "name": "stdout",
     "output_type": "stream",
     "text": [
      "[[1 2 3]\n",
      " [4 5 6]]\n",
      "[[1 2]\n",
      " [3 4]\n",
      " [5 6]]\n"
     ]
    }
   ],
   "source": [
    "#reshaping a numpy array(not permanent)\n",
    "print(ar2)\n",
    "print(ar2.reshape(3,2))\n",
    "#on reshaping new dimension values should result to same previous size"
   ]
  },
  {
   "cell_type": "code",
   "execution_count": null,
   "metadata": {},
   "outputs": [],
   "source": [
    "#slicing in numpy array: "
   ]
  }
 ],
 "metadata": {
  "kernelspec": {
   "display_name": "Python 3",
   "language": "python",
   "name": "python3"
  },
  "language_info": {
   "codemirror_mode": {
    "name": "ipython",
    "version": 3
   },
   "file_extension": ".py",
   "mimetype": "text/x-python",
   "name": "python",
   "nbconvert_exporter": "python",
   "pygments_lexer": "ipython3",
   "version": "3.7.4"
  }
 },
 "nbformat": 4,
 "nbformat_minor": 2
}
